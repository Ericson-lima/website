{
 "cells": [
  {
   "cell_type": "code",
   "execution_count": 38,
   "metadata": {},
   "outputs": [],
   "source": [
    "import yaml"
   ]
  },
  {
   "cell_type": "code",
   "execution_count": 39,
   "metadata": {},
   "outputs": [],
   "source": [
    "%run simple_CRM_05_clean_db_2.ipynb"
   ]
  },
  {
   "cell_type": "code",
   "execution_count": 42,
   "metadata": {},
   "outputs": [],
   "source": [
    "def send_all(subject, template, list_name='all'):\n",
    "    if list_name == 'all':\n",
    "        customers = session.query(Customer)\n",
    "    else:\n",
    "        customer_list = session.query(List).filter_by(name=list_name).first()\n",
    "        customers = customer_list.customers\n",
    "    for customer in customers:\n",
    "        try:\n",
    "            message = customer.create_msg(subject, template)\n",
    "            message.send(config)\n",
    "            session.add(message)\n",
    "            session.commit()\n",
    "            print('Sent message {} to: {}'.format(subject, customer.email))\n",
    "        except MessageAlreadySent:\n",
    "            print('Skipping {} because message already sent'.format(customer.email))\n",
    "        "
   ]
  },
  {
   "cell_type": "code",
   "execution_count": 43,
   "metadata": {},
   "outputs": [
    {
     "name": "stdout",
     "output_type": "stream",
     "text": [
      "Skipping aqui.carattino@gmail.com because message already sent\n",
      "Sent message Testing the CMR to: aqui.carattino@gmail.com\n"
     ]
    }
   ],
   "source": [
    "with open('config.yml', 'r') as config_file:\n",
    "    config = yaml.load(config_file)\n",
    "send_all('Testing the CMR', 'test_email.txt', 'Test List 2')"
   ]
  },
  {
   "cell_type": "code",
   "execution_count": 28,
   "metadata": {},
   "outputs": [],
   "source": [
    "l = List(name='Test List 2')\n",
    "c = session.query(Customer).filter_by(email='aqui.carattino@gmail.com').first()"
   ]
  },
  {
   "cell_type": "code",
   "execution_count": 29,
   "metadata": {},
   "outputs": [],
   "source": [
    "l.customers.append(c)"
   ]
  },
  {
   "cell_type": "code",
   "execution_count": 30,
   "metadata": {},
   "outputs": [],
   "source": [
    "session.add(l)\n",
    "session.add(c)\n",
    "session.commit()"
   ]
  },
  {
   "cell_type": "code",
   "execution_count": 31,
   "metadata": {},
   "outputs": [],
   "source": [
    "lists = session.query(List).all()"
   ]
  },
  {
   "cell_type": "code",
   "execution_count": 32,
   "metadata": {},
   "outputs": [
    {
     "name": "stdout",
     "output_type": "stream",
     "text": [
      "Test List []\n",
      "Test List []\n",
      "Test List [<Customer(name='Aquiles', last_name='Carattino', email='aqui.carattino@gmail.com')>]\n",
      "Test List [<Customer(name='Aquiles', last_name='Carattino', email='aqui.carattino@gmail.com')>]\n",
      "Test List 2 [<Customer(name='Aquiles', last_name='Carattino', email='aqui.carattino@gmail.com')>]\n"
     ]
    }
   ],
   "source": [
    "for l in lists:\n",
    "    print(l.name, l.customers)"
   ]
  },
  {
   "cell_type": "code",
   "execution_count": null,
   "metadata": {},
   "outputs": [],
   "source": []
  }
 ],
 "metadata": {
  "kernelspec": {
   "display_name": "Python 3",
   "language": "python",
   "name": "python3"
  },
  "language_info": {
   "codemirror_mode": {
    "name": "ipython",
    "version": 3
   },
   "file_extension": ".py",
   "mimetype": "text/x-python",
   "name": "python",
   "nbconvert_exporter": "python",
   "pygments_lexer": "ipython3",
   "version": "3.6.7"
  }
 },
 "nbformat": 4,
 "nbformat_minor": 2
}
