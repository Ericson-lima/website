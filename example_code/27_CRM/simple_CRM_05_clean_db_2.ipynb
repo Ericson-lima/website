{
 "cells": [
  {
   "cell_type": "markdown",
   "metadata": {},
   "source": [
    "# Setting up the DB\n",
    "\n",
    "This script should be run once in order to create the database."
   ]
  },
  {
   "cell_type": "code",
   "execution_count": 1,
   "metadata": {},
   "outputs": [],
   "source": [
    "from sqlalchemy import create_engine, Table\n",
    "from sqlalchemy import Column, Integer, String, Text, Date, ForeignKey\n",
    "from sqlalchemy.ext.declarative import declarative_base\n",
    "from sqlalchemy.orm import relationship, sessionmaker\n",
    "from datetime import datetime"
   ]
  },
  {
   "cell_type": "code",
   "execution_count": 2,
   "metadata": {},
   "outputs": [],
   "source": [
    "import smtplib\n",
    "from email.mime.multipart import MIMEMultipart\n",
    "from email.mime.text import MIMEText"
   ]
  },
  {
   "cell_type": "code",
   "execution_count": 3,
   "metadata": {},
   "outputs": [],
   "source": [
    "engine = create_engine('sqlite:///crm.db', echo=False)\n",
    "Base = declarative_base()\n",
    "Session = sessionmaker(bind=engine)\n",
    "session = Session()"
   ]
  },
  {
   "cell_type": "code",
   "execution_count": 11,
   "metadata": {},
   "outputs": [],
   "source": [
    "class MessageAlreadySent(Exception):\n",
    "    pass"
   ]
  },
  {
   "cell_type": "code",
   "execution_count": 4,
   "metadata": {},
   "outputs": [],
   "source": [
    "class Customer(Base):\n",
    "    __tablename__ = 'customers'\n",
    "    id = Column(Integer, primary_key=True)\n",
    "    name = Column(String)\n",
    "    last_name = Column(String)\n",
    "    email = Column(String)\n",
    "    \n",
    "    def create_msg(self, message_name, template_file):\n",
    "        message_count = session.query(Message).filter_by(name=message_name, customer=self).count()\n",
    "        if message_count > 0:\n",
    "            raise MessageAlreadySent('Message {} already sent to {}'.format(message_name, self.email))\n",
    "        with open(template_file, 'r') as template:\n",
    "            template = template.read()\n",
    "            text = template.format(name=self.name)\n",
    "        message = Message(name=message_name, text=text, customer=self, date=datetime.now())\n",
    "        return message\n",
    "\n",
    "    def __repr__(self):\n",
    "        return \"<Customer(name='{}', last_name='{}', email='{}')>\".format(\n",
    "        self.name, self.last_name, self.email)"
   ]
  },
  {
   "cell_type": "code",
   "execution_count": 5,
   "metadata": {},
   "outputs": [],
   "source": [
    "class Message(Base):\n",
    "    __tablename__ = 'messages'\n",
    "    id = Column(Integer, primary_key=True)\n",
    "    name = Column(String)\n",
    "    text = Column(Text)\n",
    "    date = Column(Date)\n",
    "    \n",
    "    customer_id = Column(Integer, ForeignKey('customers.id'))\n",
    "    customer = relationship(\"Customer\", back_populates=\"messages\")\n",
    "    \n",
    "    def send(self, config):\n",
    "        me = config['me']\n",
    "        you = '{} <{}>'.format(self.customer.name, self.customer.email) \n",
    "        msg = MIMEMultipart('alternative')\n",
    "        msg['From'] = me\n",
    "        msg['To'] = you\n",
    "        msg['Subject'] = self.name\n",
    "        msg.attach(MIMEText(self.text, 'plain'))\n",
    "        with smtplib.SMTP(config['EMAIL']['smtp_server'], config['EMAIL']['port']) as s:\n",
    "            s.ehlo()\n",
    "            s.login(config['EMAIL']['username'],config['EMAIL']['password'])\n",
    "            s.sendmail(me, you, msg.as_string())\n",
    "\n",
    "    def __repr__(self):\n",
    "        return \"<Message(name='{}', date='{}', customer='{}')>\".format(\n",
    "            self.name, self.date, self.customer)"
   ]
  },
  {
   "cell_type": "code",
   "execution_count": 6,
   "metadata": {},
   "outputs": [],
   "source": [
    "class List(Base):\n",
    "    __tablename__ = 'lists'\n",
    "    id = Column(Integer, primary_key=True)\n",
    "    name = Column(String)"
   ]
  },
  {
   "cell_type": "code",
   "execution_count": 7,
   "metadata": {},
   "outputs": [],
   "source": [
    "association_table = Table('list_customer', Base.metadata,\n",
    "    Column('left_id', Integer, ForeignKey('customers.id')),\n",
    "    Column('right_id', Integer, ForeignKey('lists.id'))\n",
    ")"
   ]
  },
  {
   "cell_type": "code",
   "execution_count": 8,
   "metadata": {},
   "outputs": [],
   "source": [
    "Customer.messages = relationship('Message', order_by=Message.id, back_populates='customer')\n",
    "Customer.lists = relationship(\"List\",\n",
    "                    secondary=association_table,\n",
    "                    backref=\"customers\")"
   ]
  },
  {
   "cell_type": "code",
   "execution_count": 9,
   "metadata": {},
   "outputs": [],
   "source": [
    "Base.metadata.create_all(engine)"
   ]
  },
  {
   "cell_type": "code",
   "execution_count": 10,
   "metadata": {},
   "outputs": [],
   "source": []
  },
  {
   "cell_type": "code",
   "execution_count": null,
   "metadata": {},
   "outputs": [],
   "source": []
  }
 ],
 "metadata": {
  "kernelspec": {
   "display_name": "Python 3",
   "language": "python",
   "name": "python3"
  },
  "language_info": {
   "codemirror_mode": {
    "name": "ipython",
    "version": 3
   },
   "file_extension": ".py",
   "mimetype": "text/x-python",
   "name": "python",
   "nbconvert_exporter": "python",
   "pygments_lexer": "ipython3",
   "version": "3.6.7"
  }
 },
 "nbformat": 4,
 "nbformat_minor": 2
}
