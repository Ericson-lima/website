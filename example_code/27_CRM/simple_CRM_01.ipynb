{
 "cells": [
  {
   "cell_type": "code",
   "execution_count": 1,
   "metadata": {},
   "outputs": [],
   "source": [
    "import yaml"
   ]
  },
  {
   "cell_type": "code",
   "execution_count": 57,
   "metadata": {},
   "outputs": [],
   "source": [
    "with open('config.yml', 'r') as config_file:\n",
    "    config = yaml.load(config_file)"
   ]
  },
  {
   "cell_type": "code",
   "execution_count": 3,
   "metadata": {},
   "outputs": [],
   "source": [
    "msg_sbj = 'Testing my brand new CRM with Jupyter notebooks'\n",
    "msg_text = '''This is the body of the message that will be sent.\\n\n",
    "Even if basic, it will prove the point.\\n\\n\n",
    "Hope to hear again from you!'''\n",
    "\n",
    "with open('base_email.html') as f:\n",
    "    msg_html = f.read()"
   ]
  },
  {
   "cell_type": "code",
   "execution_count": 6,
   "metadata": {},
   "outputs": [],
   "source": [
    "import smtplib\n",
    "from email.mime.multipart import MIMEMultipart\n",
    "from email.mime.text import MIMEText\n",
    "\n",
    "me = \"Aquiles <aquiles@uetke.com>\"\n",
    "you = \"Aquiles <you@gmail.com>\"\n",
    "\n",
    "msg = MIMEMultipart('alternative')\n",
    "msg['From'] = me\n",
    "msg['To'] = you \n",
    "msg['Subject'] = msg_sbj\n",
    "msg.attach(MIMEText(msg_text, 'plain'))\n",
    "msg.attach(MIMEText(msg_html, 'html'))\n",
    "\n",
    "with smtplib.SMTP(config['EMAIL']['smtp_server'], config['EMAIL']['port']) as s:\n",
    "    s.ehlo()\n",
    "    s.login(config['EMAIL']['username'],config['EMAIL']['password'])\n",
    "    s.sendmail(me, you, msg.as_string())\n",
    "    s.quit()"
   ]
  },
  {
   "cell_type": "code",
   "execution_count": 7,
   "metadata": {},
   "outputs": [],
   "source": [
    "import poplib"
   ]
  },
  {
   "cell_type": "code",
   "execution_count": 80,
   "metadata": {},
   "outputs": [
    {
     "data": {
      "text/plain": [
       "b'+OK Logged in.'"
      ]
     },
     "execution_count": 80,
     "metadata": {},
     "output_type": "execute_result"
    }
   ],
   "source": [
    "server = poplib.POP3(config['EMAIL']['pop_server'])\n",
    " \n",
    "# login\n",
    "server.user(config['EMAIL']['username'])\n",
    "server.pass_(config['EMAIL']['password'])"
   ]
  },
  {
   "cell_type": "code",
   "execution_count": 81,
   "metadata": {},
   "outputs": [],
   "source": [
    "resp, items, octets = server.list()"
   ]
  },
  {
   "cell_type": "code",
   "execution_count": 82,
   "metadata": {},
   "outputs": [
    {
     "data": {
      "text/plain": [
       "[b'1 34564', b'2 23746', b'3 56465']"
      ]
     },
     "execution_count": 82,
     "metadata": {},
     "output_type": "execute_result"
    }
   ],
   "source": [
    "items"
   ]
  },
  {
   "cell_type": "code",
   "execution_count": 25,
   "metadata": {},
   "outputs": [],
   "source": [
    "msg = server.retr('1')"
   ]
  },
  {
   "cell_type": "code",
   "execution_count": 37,
   "metadata": {},
   "outputs": [],
   "source": [
    "raw_email = b'\\n'.join(msg[1])"
   ]
  },
  {
   "cell_type": "code",
   "execution_count": 36,
   "metadata": {},
   "outputs": [],
   "source": [
    "import email"
   ]
  },
  {
   "cell_type": "code",
   "execution_count": 38,
   "metadata": {},
   "outputs": [],
   "source": [
    "parsed_email = email.message_from_bytes(raw_email)"
   ]
  },
  {
   "cell_type": "code",
   "execution_count": 55,
   "metadata": {},
   "outputs": [
    {
     "name": "stdout",
     "output_type": "stream",
     "text": [
      "Testing Python!\n",
      "\n",
      "Aquiles Carattino\n",
      "e-mail / GTalk:            aquiles@aquicarattino.com\n",
      "<aqui.carattino@gmail.com>\n",
      "Blog:                         https://www.aquicarattino.com\n",
      "<http://www.aquic.com.ar>\n",
      "Flickr:                       https://www.flickr.com/aquic\n",
      "<http://www.flickr.com/aquic>\n",
      "\n"
     ]
    }
   ],
   "source": [
    "for part in parsed_email.walk():\n",
    "    if part.get_content_type() == 'text/plain':\n",
    "        print(part.get_payload()) # prints the raw text"
   ]
  },
  {
   "cell_type": "code",
   "execution_count": null,
   "metadata": {},
   "outputs": [],
   "source": []
  }
 ],
 "metadata": {
  "kernelspec": {
   "display_name": "Python 3",
   "language": "python",
   "name": "python3"
  },
  "language_info": {
   "codemirror_mode": {
    "name": "ipython",
    "version": 3
   },
   "file_extension": ".py",
   "mimetype": "text/x-python",
   "name": "python",
   "nbconvert_exporter": "python",
   "pygments_lexer": "ipython3",
   "version": "3.6.7"
  }
 },
 "nbformat": 4,
 "nbformat_minor": 2
}
